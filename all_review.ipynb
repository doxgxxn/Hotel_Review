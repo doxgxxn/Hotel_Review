{
 "cells": [
  {
   "cell_type": "code",
   "execution_count": 7,
   "metadata": {},
   "outputs": [],
   "source": [
    "import requests\n",
    "import json\n",
    "import pandas as pd\n",
    "from datetime import datetime"
   ]
  },
  {
   "cell_type": "code",
   "execution_count": 8,
   "metadata": {},
   "outputs": [],
   "source": [
    "headers = {\n",
    "    'User-Agent':'Mozilla/5.0 (Windows NT 10.0; Win64; x64) AppleWebKit/537.36 (KHTML, like Gecko) Chrome/118.0.0.0 Safari/537.36',\n",
    "    'Content-Type': 'application/json'}\n",
    "url = 'https://www.dailyhotel.com/newdelhi/goodnight/api/v1/stay/region?regionStayType=new_all'"
   ]
  },
  {
   "cell_type": "code",
   "execution_count": 9,
   "metadata": {},
   "outputs": [
    {
     "data": {
      "text/plain": [
       "{'msgCode': 100,\n",
       " 'msg': 'Request success!',\n",
       " 'data': [{'idx': 300000016,\n",
       "   'name': '서울',\n",
       "   'regions': [{'idx': 200000151, 'name': '강남 / 역삼 / 삼성', 'regions': []},\n",
       "    {'idx': 200000152, 'name': '서초 / 교대 / 방배', 'regions': []},\n",
       "    {'idx': 200000153, 'name': '사당', 'regions': []},\n",
       "    {'idx': 200000154, 'name': '신사 / 압구정 / 청담', 'regions': []},\n",
       "    {'idx': 200000155, 'name': '잠실 / 송파 / 잠실새내 / 천호 / 강동', 'regions': []},\n",
       "    {'idx': 200000156, 'name': '서울역 / 이태원 / 용산', 'regions': []},\n",
       "    {'idx': 200000157, 'name': '명동 / 중구', 'regions': []},\n",
       "    {'idx': 200000158, 'name': '을지로 / 충무로', 'regions': []},\n",
       "    {'idx': 200000159, 'name': '종로 / 동대문 / 대학로', 'regions': []},\n",
       "    {'idx': 200000160, 'name': '인사동', 'regions': []},\n",
       "    {'idx': 200000161, 'name': '서대문 / 마포 / 신촌 / 홍대', 'regions': []},\n",
       "    {'idx': 200000162, 'name': '영등포', 'regions': []},\n",
       "    {'idx': 200000163, 'name': '여의도', 'regions': []},\n",
       "    {'idx': 200000164, 'name': '신림 / 서울대', 'regions': []},\n",
       "    {'idx': 200000165, 'name': '구로 / 금천', 'regions': []},\n",
       "    {'idx': 200000166, 'name': '김포공항', 'regions': []},\n",
       "    {'idx': 200000167, 'name': '강서 / 화곡', 'regions': []},\n",
       "    {'idx': 200000168, 'name': '건대 / 성수', 'regions': []},\n",
       "    {'idx': 200000169, 'name': '왕십리', 'regions': []},\n",
       "    {'idx': 200000170, 'name': '군자 / 상봉 / 중랑구', 'regions': []},\n",
       "    {'idx': 200000171, 'name': '장안 / 청량리', 'regions': []},\n",
       "    {'idx': 200000172, 'name': '강북 / 수유 / 도봉 / 미아 / 성북 / 노원', 'regions': []},\n",
       "    {'idx': 300000016, 'name': '서울 전체', 'regions': []}],\n",
       "   'advertisement': {'regionLargeIdx': 300000016,\n",
       "    'name': '<strong>데일리 플러스</strong>',\n",
       "    'iconUrl': 'https://img.dailyhotel.me/app_static/advertisement/ic_region_large.png'}},\n",
       "  {'idx': 300000017,\n",
       "   'name': '부산',\n",
       "   'regions': [{'idx': 200000173, 'name': '해운대', 'regions': []},\n",
       "    {'idx': 200000174, 'name': '광안리 / 센텀', 'regions': []},\n",
       "    {'idx': 200000175, 'name': '경성대', 'regions': []},\n",
       "    {'idx': 200000176, 'name': '송정 / 기장', 'regions': []},\n",
       "    {'idx': 200000177, 'name': '부산역', 'regions': []},\n",
       "    {'idx': 200000178, 'name': '남포 / 자갈치', 'regions': []},\n",
       "    {'idx': 200000179, 'name': '송도', 'regions': []},\n",
       "    {'idx': 200000180, 'name': '서면 / 양정', 'regions': []},\n",
       "    {'idx': 200000181, 'name': '동래', 'regions': []},\n",
       "    {'idx': 200000182, 'name': '연산', 'regions': []},\n",
       "    {'idx': 200000183, 'name': '금정', 'regions': []},\n",
       "    {'idx': 200000184, 'name': '사상', 'regions': []},\n",
       "    {'idx': 200000185, 'name': '명지', 'regions': []},\n",
       "    {'idx': 200000186, 'name': '화명', 'regions': []},\n",
       "    {'idx': 200000187, 'name': '신호 / 하단', 'regions': []},\n",
       "    {'idx': 300000017, 'name': '부산 전체', 'regions': []}],\n",
       "   'advertisement': {'regionLargeIdx': 300000017,\n",
       "    'name': '<strong>데일리 플러스</strong>',\n",
       "    'iconUrl': 'https://img.dailyhotel.me/app_static/advertisement/ic_region_large.png'}},\n",
       "  {'idx': 300000018,\n",
       "   'name': '제주',\n",
       "   'regions': [{'idx': 200000188, 'name': '제주시', 'regions': []},\n",
       "    {'idx': 200000189, 'name': '서귀포시 / 중문', 'regions': []},\n",
       "    {'idx': 200000190, 'name': '제주국제공항', 'regions': []},\n",
       "    {'idx': 200000191, 'name': '애월', 'regions': []},\n",
       "    {'idx': 200000192, 'name': '한림 / 협재', 'regions': []},\n",
       "    {'idx': 200000193, 'name': '성산', 'regions': []},\n",
       "    {'idx': 200000194, 'name': '조천 / 함덕', 'regions': []},\n",
       "    {'idx': 200000195, 'name': '남원 / 표선', 'regions': []},\n",
       "    {'idx': 200000196, 'name': '구좌 / 용눈이오름', 'regions': []},\n",
       "    {'idx': 200000197, 'name': '모슬포항 / 대정 / 산방산 / 안덕', 'regions': []},\n",
       "    {'idx': 300000018, 'name': '제주 전체', 'regions': []}],\n",
       "   'advertisement': {'regionLargeIdx': 300000018,\n",
       "    'name': '<strong>데일리 플러스</strong>',\n",
       "    'iconUrl': 'https://img.dailyhotel.me/app_static/advertisement/ic_region_large.png'}},\n",
       "  {'idx': 300000019,\n",
       "   'name': '강원',\n",
       "   'regions': [{'idx': 200000198, 'name': '강릉 / 경포대 / 정동진', 'regions': []},\n",
       "    {'idx': 200000199, 'name': '속초 / 설악', 'regions': []},\n",
       "    {'idx': 200000200, 'name': '양양', 'regions': []},\n",
       "    {'idx': 200000201, 'name': '고성', 'regions': []},\n",
       "    {'idx': 200000202, 'name': '동해 / 정선', 'regions': []},\n",
       "    {'idx': 200000203, 'name': '삼척', 'regions': []},\n",
       "    {'idx': 200000204, 'name': '춘천 / 강촌 / 남이섬', 'regions': []},\n",
       "    {'idx': 200000205, 'name': '홍천', 'regions': []},\n",
       "    {'idx': 200000206, 'name': '원주', 'regions': []},\n",
       "    {'idx': 200000207, 'name': '영월', 'regions': []},\n",
       "    {'idx': 200000208, 'name': '태백', 'regions': []},\n",
       "    {'idx': 200000209, 'name': '평창', 'regions': []},\n",
       "    {'idx': 200000210, 'name': '횡성', 'regions': []},\n",
       "    {'idx': 200000211, 'name': '인제 / 철원 / 양구 / 화천', 'regions': []},\n",
       "    {'idx': 300000019, 'name': '강원 전체', 'regions': []}],\n",
       "   'advertisement': {'regionLargeIdx': 300000019,\n",
       "    'name': '<strong>데일리 플러스</strong>',\n",
       "    'iconUrl': 'https://img.dailyhotel.me/app_static/advertisement/ic_region_large.png'}},\n",
       "  {'idx': 300000020,\n",
       "   'name': '경기',\n",
       "   'regions': [{'idx': 200000212, 'name': '수원 / 인계 / 권선 / 영통', 'regions': []},\n",
       "    {'idx': 200000213, 'name': '장안 / 팔달', 'regions': []},\n",
       "    {'idx': 200000214, 'name': '용인', 'regions': []},\n",
       "    {'idx': 200000215, 'name': '평택', 'regions': []},\n",
       "    {'idx': 200000216, 'name': '안산 / 대부도', 'regions': []},\n",
       "    {'idx': 200000217, 'name': '부천', 'regions': []},\n",
       "    {'idx': 200000218, 'name': '시흥 / 광명', 'regions': []},\n",
       "    {'idx': 200000219, 'name': '파주 / 고양 / 김포', 'regions': []},\n",
       "    {'idx': 200000220, 'name': '화성 / 제부도 / 오산', 'regions': []},\n",
       "    {'idx': 200000221, 'name': '가평', 'regions': []},\n",
       "    {'idx': 200000222, 'name': '양평 / 용문', 'regions': []},\n",
       "    {'idx': 200000223, 'name': '청평', 'regions': []},\n",
       "    {'idx': 200000224, 'name': '안성', 'regions': []},\n",
       "    {'idx': 200000225, 'name': '성남', 'regions': []},\n",
       "    {'idx': 200000226, 'name': '의정부', 'regions': []},\n",
       "    {'idx': 200000227, 'name': '포천 / 동두천', 'regions': []},\n",
       "    {'idx': 200000228, 'name': '연천', 'regions': []},\n",
       "    {'idx': 200000229, 'name': '안양', 'regions': []},\n",
       "    {'idx': 200000230, 'name': '의왕 / 군포', 'regions': []},\n",
       "    {'idx': 200000231, 'name': '남양주 / 구리 / 하남', 'regions': []},\n",
       "    {'idx': 200000232, 'name': '여주 / 이천', 'regions': []},\n",
       "    {'idx': 200000233, 'name': '양주', 'regions': []},\n",
       "    {'idx': 300000020, 'name': '경기 전체', 'regions': []}],\n",
       "   'advertisement': {'regionLargeIdx': 300000020,\n",
       "    'name': '<strong>데일리 플러스</strong>',\n",
       "    'iconUrl': 'https://img.dailyhotel.me/app_static/advertisement/ic_region_large.png'}},\n",
       "  {'idx': 300000021,\n",
       "   'name': '인천',\n",
       "   'regions': [{'idx': 200000234, 'name': '강화', 'regions': []},\n",
       "    {'idx': 200000235, 'name': '인천국제공항', 'regions': []},\n",
       "    {'idx': 200000236, 'name': '송도 / 연수구', 'regions': []},\n",
       "    {'idx': 200000237, 'name': '을왕리 / 월미도', 'regions': []},\n",
       "    {'idx': 200000238, 'name': '영종도', 'regions': []},\n",
       "    {'idx': 200000239, 'name': '청라', 'regions': []},\n",
       "    {'idx': 200000240, 'name': '부평', 'regions': []},\n",
       "    {'idx': 200000241, 'name': '주안', 'regions': []},\n",
       "    {'idx': 200000242, 'name': '계양', 'regions': []},\n",
       "    {'idx': 200000243, 'name': '미추홀', 'regions': []},\n",
       "    {'idx': 200000244, 'name': '옹진군', 'regions': []},\n",
       "    {'idx': 300000021, 'name': '인천 전체', 'regions': []}],\n",
       "   'advertisement': {'regionLargeIdx': 300000021,\n",
       "    'name': '<strong>데일리 플러스</strong>',\n",
       "    'iconUrl': 'https://img.dailyhotel.me/app_static/advertisement/ic_region_large.png'}},\n",
       "  {'idx': 300000022,\n",
       "   'name': '대구',\n",
       "   'regions': [{'idx': 200000245, 'name': '달서구 / 성서 / 죽전 / 본리', 'regions': []},\n",
       "    {'idx': 200000246, 'name': '동구 / 동대구역 / 대구공항', 'regions': []},\n",
       "    {'idx': 200000247, 'name': '수성구 / 수성못 / 두산 / 지산', 'regions': []},\n",
       "    {'idx': 200000248, 'name': '중구 / 동성로', 'regions': []},\n",
       "    {'idx': 200000249, 'name': '북구 / 경북대', 'regions': []},\n",
       "    {'idx': 200000250, 'name': '서구 / 비산', 'regions': []},\n",
       "    {'idx': 200000251, 'name': '남구 / 봉덕', 'regions': []},\n",
       "    {'idx': 200000252, 'name': '달성군', 'regions': []},\n",
       "    {'idx': 300000022, 'name': '대구 전체', 'regions': []}],\n",
       "   'advertisement': {'regionLargeIdx': 300000022,\n",
       "    'name': '<strong>데일리 플러스</strong>',\n",
       "    'iconUrl': 'https://img.dailyhotel.me/app_static/advertisement/ic_region_large.png'}},\n",
       "  {'idx': 300000023,\n",
       "   'name': '울산',\n",
       "   'regions': [{'idx': 200000253, 'name': '남구 / 삼산 / 중구 / 성남', 'regions': []},\n",
       "    {'idx': 200000254, 'name': '동구 / 북구 / 울주군', 'regions': []},\n",
       "    {'idx': 300000023, 'name': '울산 전체', 'regions': []}],\n",
       "   'advertisement': {'regionLargeIdx': 300000023,\n",
       "    'name': '<strong>데일리 플러스</strong>',\n",
       "    'iconUrl': 'https://img.dailyhotel.me/app_static/advertisement/ic_region_large.png'}},\n",
       "  {'idx': 300000024,\n",
       "   'name': '경남',\n",
       "   'regions': [{'idx': 200000255, 'name': '거제', 'regions': []},\n",
       "    {'idx': 200000256, 'name': '통영', 'regions': []},\n",
       "    {'idx': 200000257, 'name': '남해', 'regions': []},\n",
       "    {'idx': 200000258, 'name': '사천 / 진주', 'regions': []},\n",
       "    {'idx': 200000259, 'name': '고성', 'regions': []},\n",
       "    {'idx': 200000260, 'name': '창원', 'regions': []},\n",
       "    {'idx': 200000261, 'name': '김해', 'regions': []},\n",
       "    {'idx': 200000262, 'name': '양산', 'regions': []},\n",
       "    {'idx': 200000263, 'name': '밀양 / 합천', 'regions': []},\n",
       "    {'idx': 200000264, 'name': '하동', 'regions': []},\n",
       "    {'idx': 200000265, 'name': '산청', 'regions': []},\n",
       "    {'idx': 200000266, 'name': '창녕', 'regions': []},\n",
       "    {'idx': 300000024, 'name': '경남 전체', 'regions': []}],\n",
       "   'advertisement': {'regionLargeIdx': 300000024,\n",
       "    'name': '<strong>데일리 플러스</strong>',\n",
       "    'iconUrl': 'https://img.dailyhotel.me/app_static/advertisement/ic_region_large.png'}},\n",
       "  {'idx': 300000025,\n",
       "   'name': '경북',\n",
       "   'regions': [{'idx': 200000267, 'name': '경주', 'regions': []},\n",
       "    {'idx': 200000268, 'name': '포항', 'regions': []},\n",
       "    {'idx': 200000269, 'name': '울릉', 'regions': []},\n",
       "    {'idx': 200000270, 'name': '구미/김천', 'regions': []},\n",
       "    {'idx': 200000271, 'name': '영덕 / 청송', 'regions': []},\n",
       "    {'idx': 200000272, 'name': '울진', 'regions': []},\n",
       "    {'idx': 200000273, 'name': '경산 / 영천', 'regions': []},\n",
       "    {'idx': 200000274, 'name': '청도', 'regions': []},\n",
       "    {'idx': 200000275, 'name': '문경', 'regions': []},\n",
       "    {'idx': 200000276, 'name': '상주', 'regions': []},\n",
       "    {'idx': 200000277, 'name': '성주', 'regions': []},\n",
       "    {'idx': 200000278, 'name': '안동', 'regions': []},\n",
       "    {'idx': 200000279, 'name': '영주', 'regions': []},\n",
       "    {'idx': 300000025, 'name': '경북 전체', 'regions': []}],\n",
       "   'advertisement': {'regionLargeIdx': 300000025,\n",
       "    'name': '<strong>데일리 플러스</strong>',\n",
       "    'iconUrl': 'https://img.dailyhotel.me/app_static/advertisement/ic_region_large.png'}},\n",
       "  {'idx': 300000026,\n",
       "   'name': '광주',\n",
       "   'regions': [{'idx': 200000280, 'name': '서구 / 상무 / 유스퀘어', 'regions': []},\n",
       "    {'idx': 200000281, 'name': '광산구 / 첨단 / 송정역 / 하남', 'regions': []},\n",
       "    {'idx': 200000282, 'name': '동구 / 동명동 / 충장로 / 남구', 'regions': []},\n",
       "    {'idx': 200000283, 'name': '북구 / 광주역 / 전남대사거리', 'regions': []},\n",
       "    {'idx': 300000026, 'name': '광주 전체', 'regions': []}],\n",
       "   'advertisement': {'regionLargeIdx': 300000026,\n",
       "    'name': '<strong>데일리 플러스</strong>',\n",
       "    'iconUrl': 'https://img.dailyhotel.me/app_static/advertisement/ic_region_large.png'}},\n",
       "  {'idx': 300000027,\n",
       "   'name': '전남',\n",
       "   'regions': [{'idx': 200000284, 'name': '여수', 'regions': []},\n",
       "    {'idx': 200000285, 'name': '순천 / 광양', 'regions': []},\n",
       "    {'idx': 200000286, 'name': '구례', 'regions': []},\n",
       "    {'idx': 200000287, 'name': '목포', 'regions': []},\n",
       "    {'idx': 200000288, 'name': '해남', 'regions': []},\n",
       "    {'idx': 200000289, 'name': '완도', 'regions': []},\n",
       "    {'idx': 200000290, 'name': '보성', 'regions': []},\n",
       "    {'idx': 200000291, 'name': '나주', 'regions': []},\n",
       "    {'idx': 200000292, 'name': '담양 / 영광', 'regions': []},\n",
       "    {'idx': 200000293, 'name': '무안', 'regions': []},\n",
       "    {'idx': 200000294, 'name': '신안', 'regions': []},\n",
       "    {'idx': 200000295, 'name': '고흥', 'regions': []},\n",
       "    {'idx': 200000296, 'name': '화순', 'regions': []},\n",
       "    {'idx': 300000027, 'name': '전남 전체', 'regions': []}],\n",
       "   'advertisement': {'regionLargeIdx': 300000027,\n",
       "    'name': '<strong>데일리 플러스</strong>',\n",
       "    'iconUrl': 'https://img.dailyhotel.me/app_static/advertisement/ic_region_large.png'}},\n",
       "  {'idx': 300000028,\n",
       "   'name': '전북',\n",
       "   'regions': [{'idx': 200000297, 'name': '전주', 'regions': []},\n",
       "    {'idx': 200000298, 'name': '군산', 'regions': []},\n",
       "    {'idx': 200000299, 'name': '부안', 'regions': []},\n",
       "    {'idx': 200000300, 'name': '고창', 'regions': []},\n",
       "    {'idx': 200000301, 'name': '남원 / 순창', 'regions': []},\n",
       "    {'idx': 200000302, 'name': '익산', 'regions': []},\n",
       "    {'idx': 200000303, 'name': '완주', 'regions': []},\n",
       "    {'idx': 200000304, 'name': '무주', 'regions': []},\n",
       "    {'idx': 300000028, 'name': '전북 전체', 'regions': []}],\n",
       "   'advertisement': {'regionLargeIdx': 300000028,\n",
       "    'name': '<strong>데일리 플러스</strong>',\n",
       "    'iconUrl': 'https://img.dailyhotel.me/app_static/advertisement/ic_region_large.png'}},\n",
       "  {'idx': 300000029,\n",
       "   'name': '대전',\n",
       "   'regions': [{'idx': 200000305, 'name': '유성구 / 충남대', 'regions': []},\n",
       "    {'idx': 200000306, 'name': '중구 / 은행 / 서대전역', 'regions': []},\n",
       "    {'idx': 200000307, 'name': '동구 / 대덕구 / 신탄진', 'regions': []},\n",
       "    {'idx': 200000308, 'name': '서구 / 둔산 / 대전시청', 'regions': []},\n",
       "    {'idx': 300000029, 'name': '대전 전체', 'regions': []}]},\n",
       "  {'idx': 300000030,\n",
       "   'name': '충남',\n",
       "   'regions': [{'idx': 200000309, 'name': '천안', 'regions': []},\n",
       "    {'idx': 200000310, 'name': '아산', 'regions': []},\n",
       "    {'idx': 200000311, 'name': '태안 / 안면도', 'regions': []},\n",
       "    {'idx': 200000312, 'name': '세종', 'regions': []},\n",
       "    {'idx': 200000313, 'name': '금산', 'regions': []},\n",
       "    {'idx': 200000314, 'name': '공주', 'regions': []},\n",
       "    {'idx': 200000315, 'name': '부여', 'regions': []},\n",
       "    {'idx': 200000316, 'name': '보령', 'regions': []},\n",
       "    {'idx': 200000317, 'name': '서산', 'regions': []},\n",
       "    {'idx': 200000318, 'name': '논산', 'regions': []},\n",
       "    {'idx': 200000319, 'name': '서천', 'regions': []},\n",
       "    {'idx': 200000320, 'name': '계룡', 'regions': []},\n",
       "    {'idx': 200000321, 'name': '당진', 'regions': []},\n",
       "    {'idx': 300000030, 'name': '충남 전체', 'regions': []}],\n",
       "   'advertisement': {'regionLargeIdx': 300000030,\n",
       "    'name': '<strong>데일리 플러스</strong>',\n",
       "    'iconUrl': 'https://img.dailyhotel.me/app_static/advertisement/ic_region_large.png'}},\n",
       "  {'idx': 300000031,\n",
       "   'name': '충북',\n",
       "   'regions': [{'idx': 200000322, 'name': '청주 / 진천', 'regions': []},\n",
       "    {'idx': 200000323, 'name': '제천 / 충주', 'regions': []},\n",
       "    {'idx': 200000324, 'name': '단양', 'regions': []},\n",
       "    {'idx': 200000325, 'name': '괴산', 'regions': []},\n",
       "    {'idx': 200000326, 'name': '음성', 'regions': []},\n",
       "    {'idx': 200000327, 'name': '보은', 'regions': []},\n",
       "    {'idx': 200000328, 'name': '영동', 'regions': []},\n",
       "    {'idx': 300000031, 'name': '충북 전체', 'regions': []}],\n",
       "   'advertisement': {'regionLargeIdx': 300000031,\n",
       "    'name': '<strong>데일리 플러스</strong>',\n",
       "    'iconUrl': 'https://img.dailyhotel.me/app_static/advertisement/ic_region_large.png'}}],\n",
       " 'diModel': {},\n",
       " 'dateTime': {'currentDateTime': '2023-11-06T17:03:57+09:00',\n",
       "  'openDateTime': '2023-11-06T09:00:00+09:00',\n",
       "  'closeDateTime': '2023-11-07T03:00:00+09:00',\n",
       "  'dailyDateTime': '2023-11-06T15:03:57+09:00'}}"
      ]
     },
     "execution_count": 9,
     "metadata": {},
     "output_type": "execute_result"
    }
   ],
   "source": [
    "res = requests.get(url,headers=headers)\n",
    "region = json.loads(res.text)\n",
    "region"
   ]
  },
  {
   "cell_type": "code",
   "execution_count": 10,
   "metadata": {},
   "outputs": [
    {
     "data": {
      "text/plain": [
       "dict_keys(['msgCode', 'msg', 'data', 'diModel', 'dateTime'])"
      ]
     },
     "execution_count": 10,
     "metadata": {},
     "output_type": "execute_result"
    }
   ],
   "source": [
    "region.keys()"
   ]
  },
  {
   "cell_type": "code",
   "execution_count": 12,
   "metadata": {},
   "outputs": [
    {
     "data": {
      "text/plain": [
       "16"
      ]
     },
     "execution_count": 12,
     "metadata": {},
     "output_type": "execute_result"
    }
   ],
   "source": [
    "len(region['data'])"
   ]
  },
  {
   "cell_type": "code",
   "execution_count": 15,
   "metadata": {},
   "outputs": [
    {
     "data": {
      "text/plain": [
       "{'idx': 300000016,\n",
       " 'name': '서울',\n",
       " 'regions': [{'idx': 200000151, 'name': '강남 / 역삼 / 삼성', 'regions': []},\n",
       "  {'idx': 200000152, 'name': '서초 / 교대 / 방배', 'regions': []},\n",
       "  {'idx': 200000153, 'name': '사당', 'regions': []},\n",
       "  {'idx': 200000154, 'name': '신사 / 압구정 / 청담', 'regions': []},\n",
       "  {'idx': 200000155, 'name': '잠실 / 송파 / 잠실새내 / 천호 / 강동', 'regions': []},\n",
       "  {'idx': 200000156, 'name': '서울역 / 이태원 / 용산', 'regions': []},\n",
       "  {'idx': 200000157, 'name': '명동 / 중구', 'regions': []},\n",
       "  {'idx': 200000158, 'name': '을지로 / 충무로', 'regions': []},\n",
       "  {'idx': 200000159, 'name': '종로 / 동대문 / 대학로', 'regions': []},\n",
       "  {'idx': 200000160, 'name': '인사동', 'regions': []},\n",
       "  {'idx': 200000161, 'name': '서대문 / 마포 / 신촌 / 홍대', 'regions': []},\n",
       "  {'idx': 200000162, 'name': '영등포', 'regions': []},\n",
       "  {'idx': 200000163, 'name': '여의도', 'regions': []},\n",
       "  {'idx': 200000164, 'name': '신림 / 서울대', 'regions': []},\n",
       "  {'idx': 200000165, 'name': '구로 / 금천', 'regions': []},\n",
       "  {'idx': 200000166, 'name': '김포공항', 'regions': []},\n",
       "  {'idx': 200000167, 'name': '강서 / 화곡', 'regions': []},\n",
       "  {'idx': 200000168, 'name': '건대 / 성수', 'regions': []},\n",
       "  {'idx': 200000169, 'name': '왕십리', 'regions': []},\n",
       "  {'idx': 200000170, 'name': '군자 / 상봉 / 중랑구', 'regions': []},\n",
       "  {'idx': 200000171, 'name': '장안 / 청량리', 'regions': []},\n",
       "  {'idx': 200000172, 'name': '강북 / 수유 / 도봉 / 미아 / 성북 / 노원', 'regions': []},\n",
       "  {'idx': 300000016, 'name': '서울 전체', 'regions': []}],\n",
       " 'advertisement': {'regionLargeIdx': 300000016,\n",
       "  'name': '<strong>데일리 플러스</strong>',\n",
       "  'iconUrl': 'https://img.dailyhotel.me/app_static/advertisement/ic_region_large.png'}}"
      ]
     },
     "execution_count": 15,
     "metadata": {},
     "output_type": "execute_result"
    }
   ],
   "source": [
    "region['data'][0]"
   ]
  },
  {
   "cell_type": "code",
   "execution_count": 14,
   "metadata": {},
   "outputs": [
    {
     "data": {
      "text/plain": [
       "dict_keys(['idx', 'name', 'regions', 'advertisement'])"
      ]
     },
     "execution_count": 14,
     "metadata": {},
     "output_type": "execute_result"
    }
   ],
   "source": [
    "region['data'][0].keys()"
   ]
  },
  {
   "cell_type": "code",
   "execution_count": 16,
   "metadata": {},
   "outputs": [
    {
     "data": {
      "text/plain": [
       "(300000016, '서울')"
      ]
     },
     "execution_count": 16,
     "metadata": {},
     "output_type": "execute_result"
    }
   ],
   "source": [
    "region['data'][0]['idx'], region['data'][0]['name']"
   ]
  },
  {
   "cell_type": "code",
   "execution_count": 20,
   "metadata": {},
   "outputs": [
    {
     "data": {
      "text/plain": [
       "[{'idx': 200000151, 'name': '강남 / 역삼 / 삼성', 'regions': []},\n",
       " {'idx': 200000152, 'name': '서초 / 교대 / 방배', 'regions': []},\n",
       " {'idx': 200000153, 'name': '사당', 'regions': []},\n",
       " {'idx': 200000154, 'name': '신사 / 압구정 / 청담', 'regions': []},\n",
       " {'idx': 200000155, 'name': '잠실 / 송파 / 잠실새내 / 천호 / 강동', 'regions': []},\n",
       " {'idx': 200000156, 'name': '서울역 / 이태원 / 용산', 'regions': []},\n",
       " {'idx': 200000157, 'name': '명동 / 중구', 'regions': []},\n",
       " {'idx': 200000158, 'name': '을지로 / 충무로', 'regions': []},\n",
       " {'idx': 200000159, 'name': '종로 / 동대문 / 대학로', 'regions': []},\n",
       " {'idx': 200000160, 'name': '인사동', 'regions': []},\n",
       " {'idx': 200000161, 'name': '서대문 / 마포 / 신촌 / 홍대', 'regions': []},\n",
       " {'idx': 200000162, 'name': '영등포', 'regions': []},\n",
       " {'idx': 200000163, 'name': '여의도', 'regions': []},\n",
       " {'idx': 200000164, 'name': '신림 / 서울대', 'regions': []},\n",
       " {'idx': 200000165, 'name': '구로 / 금천', 'regions': []},\n",
       " {'idx': 200000166, 'name': '김포공항', 'regions': []},\n",
       " {'idx': 200000167, 'name': '강서 / 화곡', 'regions': []},\n",
       " {'idx': 200000168, 'name': '건대 / 성수', 'regions': []},\n",
       " {'idx': 200000169, 'name': '왕십리', 'regions': []},\n",
       " {'idx': 200000170, 'name': '군자 / 상봉 / 중랑구', 'regions': []},\n",
       " {'idx': 200000171, 'name': '장안 / 청량리', 'regions': []},\n",
       " {'idx': 200000172, 'name': '강북 / 수유 / 도봉 / 미아 / 성북 / 노원', 'regions': []},\n",
       " {'idx': 300000016, 'name': '서울 전체', 'regions': []}]"
      ]
     },
     "execution_count": 20,
     "metadata": {},
     "output_type": "execute_result"
    }
   ],
   "source": [
    "region['data'][0]['regions']"
   ]
  },
  {
   "cell_type": "code",
   "execution_count": 21,
   "metadata": {},
   "outputs": [
    {
     "data": {
      "text/plain": [
       "[{'idx': 300000016,\n",
       "  'name': '서울',\n",
       "  'regions': [{'idx': 200000151, 'name': '강남 / 역삼 / 삼성', 'regions': []},\n",
       "   {'idx': 200000152, 'name': '서초 / 교대 / 방배', 'regions': []},\n",
       "   {'idx': 200000153, 'name': '사당', 'regions': []},\n",
       "   {'idx': 200000154, 'name': '신사 / 압구정 / 청담', 'regions': []},\n",
       "   {'idx': 200000155, 'name': '잠실 / 송파 / 잠실새내 / 천호 / 강동', 'regions': []},\n",
       "   {'idx': 200000156, 'name': '서울역 / 이태원 / 용산', 'regions': []},\n",
       "   {'idx': 200000157, 'name': '명동 / 중구', 'regions': []},\n",
       "   {'idx': 200000158, 'name': '을지로 / 충무로', 'regions': []},\n",
       "   {'idx': 200000159, 'name': '종로 / 동대문 / 대학로', 'regions': []},\n",
       "   {'idx': 200000160, 'name': '인사동', 'regions': []},\n",
       "   {'idx': 200000161, 'name': '서대문 / 마포 / 신촌 / 홍대', 'regions': []},\n",
       "   {'idx': 200000162, 'name': '영등포', 'regions': []},\n",
       "   {'idx': 200000163, 'name': '여의도', 'regions': []},\n",
       "   {'idx': 200000164, 'name': '신림 / 서울대', 'regions': []},\n",
       "   {'idx': 200000165, 'name': '구로 / 금천', 'regions': []},\n",
       "   {'idx': 200000166, 'name': '김포공항', 'regions': []},\n",
       "   {'idx': 200000167, 'name': '강서 / 화곡', 'regions': []},\n",
       "   {'idx': 200000168, 'name': '건대 / 성수', 'regions': []},\n",
       "   {'idx': 200000169, 'name': '왕십리', 'regions': []},\n",
       "   {'idx': 200000170, 'name': '군자 / 상봉 / 중랑구', 'regions': []},\n",
       "   {'idx': 200000171, 'name': '장안 / 청량리', 'regions': []},\n",
       "   {'idx': 200000172, 'name': '강북 / 수유 / 도봉 / 미아 / 성북 / 노원', 'regions': []},\n",
       "   {'idx': 300000016, 'name': '서울 전체', 'regions': []}]},\n",
       " {'idx': 300000017,\n",
       "  'name': '부산',\n",
       "  'regions': [{'idx': 200000173, 'name': '해운대', 'regions': []},\n",
       "   {'idx': 200000174, 'name': '광안리 / 센텀', 'regions': []},\n",
       "   {'idx': 200000175, 'name': '경성대', 'regions': []},\n",
       "   {'idx': 200000176, 'name': '송정 / 기장', 'regions': []},\n",
       "   {'idx': 200000177, 'name': '부산역', 'regions': []},\n",
       "   {'idx': 200000178, 'name': '남포 / 자갈치', 'regions': []},\n",
       "   {'idx': 200000179, 'name': '송도', 'regions': []},\n",
       "   {'idx': 200000180, 'name': '서면 / 양정', 'regions': []},\n",
       "   {'idx': 200000181, 'name': '동래', 'regions': []},\n",
       "   {'idx': 200000182, 'name': '연산', 'regions': []},\n",
       "   {'idx': 200000183, 'name': '금정', 'regions': []},\n",
       "   {'idx': 200000184, 'name': '사상', 'regions': []},\n",
       "   {'idx': 200000185, 'name': '명지', 'regions': []},\n",
       "   {'idx': 200000186, 'name': '화명', 'regions': []},\n",
       "   {'idx': 200000187, 'name': '신호 / 하단', 'regions': []},\n",
       "   {'idx': 300000017, 'name': '부산 전체', 'regions': []}]},\n",
       " {'idx': 300000018,\n",
       "  'name': '제주',\n",
       "  'regions': [{'idx': 200000188, 'name': '제주시', 'regions': []},\n",
       "   {'idx': 200000189, 'name': '서귀포시 / 중문', 'regions': []},\n",
       "   {'idx': 200000190, 'name': '제주국제공항', 'regions': []},\n",
       "   {'idx': 200000191, 'name': '애월', 'regions': []},\n",
       "   {'idx': 200000192, 'name': '한림 / 협재', 'regions': []},\n",
       "   {'idx': 200000193, 'name': '성산', 'regions': []},\n",
       "   {'idx': 200000194, 'name': '조천 / 함덕', 'regions': []},\n",
       "   {'idx': 200000195, 'name': '남원 / 표선', 'regions': []},\n",
       "   {'idx': 200000196, 'name': '구좌 / 용눈이오름', 'regions': []},\n",
       "   {'idx': 200000197, 'name': '모슬포항 / 대정 / 산방산 / 안덕', 'regions': []},\n",
       "   {'idx': 300000018, 'name': '제주 전체', 'regions': []}]},\n",
       " {'idx': 300000019,\n",
       "  'name': '강원',\n",
       "  'regions': [{'idx': 200000198, 'name': '강릉 / 경포대 / 정동진', 'regions': []},\n",
       "   {'idx': 200000199, 'name': '속초 / 설악', 'regions': []},\n",
       "   {'idx': 200000200, 'name': '양양', 'regions': []},\n",
       "   {'idx': 200000201, 'name': '고성', 'regions': []},\n",
       "   {'idx': 200000202, 'name': '동해 / 정선', 'regions': []},\n",
       "   {'idx': 200000203, 'name': '삼척', 'regions': []},\n",
       "   {'idx': 200000204, 'name': '춘천 / 강촌 / 남이섬', 'regions': []},\n",
       "   {'idx': 200000205, 'name': '홍천', 'regions': []},\n",
       "   {'idx': 200000206, 'name': '원주', 'regions': []},\n",
       "   {'idx': 200000207, 'name': '영월', 'regions': []},\n",
       "   {'idx': 200000208, 'name': '태백', 'regions': []},\n",
       "   {'idx': 200000209, 'name': '평창', 'regions': []},\n",
       "   {'idx': 200000210, 'name': '횡성', 'regions': []},\n",
       "   {'idx': 200000211, 'name': '인제 / 철원 / 양구 / 화천', 'regions': []},\n",
       "   {'idx': 300000019, 'name': '강원 전체', 'regions': []}]},\n",
       " {'idx': 300000020,\n",
       "  'name': '경기',\n",
       "  'regions': [{'idx': 200000212, 'name': '수원 / 인계 / 권선 / 영통', 'regions': []},\n",
       "   {'idx': 200000213, 'name': '장안 / 팔달', 'regions': []},\n",
       "   {'idx': 200000214, 'name': '용인', 'regions': []},\n",
       "   {'idx': 200000215, 'name': '평택', 'regions': []},\n",
       "   {'idx': 200000216, 'name': '안산 / 대부도', 'regions': []},\n",
       "   {'idx': 200000217, 'name': '부천', 'regions': []},\n",
       "   {'idx': 200000218, 'name': '시흥 / 광명', 'regions': []},\n",
       "   {'idx': 200000219, 'name': '파주 / 고양 / 김포', 'regions': []},\n",
       "   {'idx': 200000220, 'name': '화성 / 제부도 / 오산', 'regions': []},\n",
       "   {'idx': 200000221, 'name': '가평', 'regions': []},\n",
       "   {'idx': 200000222, 'name': '양평 / 용문', 'regions': []},\n",
       "   {'idx': 200000223, 'name': '청평', 'regions': []},\n",
       "   {'idx': 200000224, 'name': '안성', 'regions': []},\n",
       "   {'idx': 200000225, 'name': '성남', 'regions': []},\n",
       "   {'idx': 200000226, 'name': '의정부', 'regions': []},\n",
       "   {'idx': 200000227, 'name': '포천 / 동두천', 'regions': []},\n",
       "   {'idx': 200000228, 'name': '연천', 'regions': []},\n",
       "   {'idx': 200000229, 'name': '안양', 'regions': []},\n",
       "   {'idx': 200000230, 'name': '의왕 / 군포', 'regions': []},\n",
       "   {'idx': 200000231, 'name': '남양주 / 구리 / 하남', 'regions': []},\n",
       "   {'idx': 200000232, 'name': '여주 / 이천', 'regions': []},\n",
       "   {'idx': 200000233, 'name': '양주', 'regions': []},\n",
       "   {'idx': 300000020, 'name': '경기 전체', 'regions': []}]},\n",
       " {'idx': 300000021,\n",
       "  'name': '인천',\n",
       "  'regions': [{'idx': 200000234, 'name': '강화', 'regions': []},\n",
       "   {'idx': 200000235, 'name': '인천국제공항', 'regions': []},\n",
       "   {'idx': 200000236, 'name': '송도 / 연수구', 'regions': []},\n",
       "   {'idx': 200000237, 'name': '을왕리 / 월미도', 'regions': []},\n",
       "   {'idx': 200000238, 'name': '영종도', 'regions': []},\n",
       "   {'idx': 200000239, 'name': '청라', 'regions': []},\n",
       "   {'idx': 200000240, 'name': '부평', 'regions': []},\n",
       "   {'idx': 200000241, 'name': '주안', 'regions': []},\n",
       "   {'idx': 200000242, 'name': '계양', 'regions': []},\n",
       "   {'idx': 200000243, 'name': '미추홀', 'regions': []},\n",
       "   {'idx': 200000244, 'name': '옹진군', 'regions': []},\n",
       "   {'idx': 300000021, 'name': '인천 전체', 'regions': []}]},\n",
       " {'idx': 300000022,\n",
       "  'name': '대구',\n",
       "  'regions': [{'idx': 200000245, 'name': '달서구 / 성서 / 죽전 / 본리', 'regions': []},\n",
       "   {'idx': 200000246, 'name': '동구 / 동대구역 / 대구공항', 'regions': []},\n",
       "   {'idx': 200000247, 'name': '수성구 / 수성못 / 두산 / 지산', 'regions': []},\n",
       "   {'idx': 200000248, 'name': '중구 / 동성로', 'regions': []},\n",
       "   {'idx': 200000249, 'name': '북구 / 경북대', 'regions': []},\n",
       "   {'idx': 200000250, 'name': '서구 / 비산', 'regions': []},\n",
       "   {'idx': 200000251, 'name': '남구 / 봉덕', 'regions': []},\n",
       "   {'idx': 200000252, 'name': '달성군', 'regions': []},\n",
       "   {'idx': 300000022, 'name': '대구 전체', 'regions': []}]},\n",
       " {'idx': 300000023,\n",
       "  'name': '울산',\n",
       "  'regions': [{'idx': 200000253, 'name': '남구 / 삼산 / 중구 / 성남', 'regions': []},\n",
       "   {'idx': 200000254, 'name': '동구 / 북구 / 울주군', 'regions': []},\n",
       "   {'idx': 300000023, 'name': '울산 전체', 'regions': []}]},\n",
       " {'idx': 300000024,\n",
       "  'name': '경남',\n",
       "  'regions': [{'idx': 200000255, 'name': '거제', 'regions': []},\n",
       "   {'idx': 200000256, 'name': '통영', 'regions': []},\n",
       "   {'idx': 200000257, 'name': '남해', 'regions': []},\n",
       "   {'idx': 200000258, 'name': '사천 / 진주', 'regions': []},\n",
       "   {'idx': 200000259, 'name': '고성', 'regions': []},\n",
       "   {'idx': 200000260, 'name': '창원', 'regions': []},\n",
       "   {'idx': 200000261, 'name': '김해', 'regions': []},\n",
       "   {'idx': 200000262, 'name': '양산', 'regions': []},\n",
       "   {'idx': 200000263, 'name': '밀양 / 합천', 'regions': []},\n",
       "   {'idx': 200000264, 'name': '하동', 'regions': []},\n",
       "   {'idx': 200000265, 'name': '산청', 'regions': []},\n",
       "   {'idx': 200000266, 'name': '창녕', 'regions': []},\n",
       "   {'idx': 300000024, 'name': '경남 전체', 'regions': []}]},\n",
       " {'idx': 300000025,\n",
       "  'name': '경북',\n",
       "  'regions': [{'idx': 200000267, 'name': '경주', 'regions': []},\n",
       "   {'idx': 200000268, 'name': '포항', 'regions': []},\n",
       "   {'idx': 200000269, 'name': '울릉', 'regions': []},\n",
       "   {'idx': 200000270, 'name': '구미/김천', 'regions': []},\n",
       "   {'idx': 200000271, 'name': '영덕 / 청송', 'regions': []},\n",
       "   {'idx': 200000272, 'name': '울진', 'regions': []},\n",
       "   {'idx': 200000273, 'name': '경산 / 영천', 'regions': []},\n",
       "   {'idx': 200000274, 'name': '청도', 'regions': []},\n",
       "   {'idx': 200000275, 'name': '문경', 'regions': []},\n",
       "   {'idx': 200000276, 'name': '상주', 'regions': []},\n",
       "   {'idx': 200000277, 'name': '성주', 'regions': []},\n",
       "   {'idx': 200000278, 'name': '안동', 'regions': []},\n",
       "   {'idx': 200000279, 'name': '영주', 'regions': []},\n",
       "   {'idx': 300000025, 'name': '경북 전체', 'regions': []}]},\n",
       " {'idx': 300000026,\n",
       "  'name': '광주',\n",
       "  'regions': [{'idx': 200000280, 'name': '서구 / 상무 / 유스퀘어', 'regions': []},\n",
       "   {'idx': 200000281, 'name': '광산구 / 첨단 / 송정역 / 하남', 'regions': []},\n",
       "   {'idx': 200000282, 'name': '동구 / 동명동 / 충장로 / 남구', 'regions': []},\n",
       "   {'idx': 200000283, 'name': '북구 / 광주역 / 전남대사거리', 'regions': []},\n",
       "   {'idx': 300000026, 'name': '광주 전체', 'regions': []}]},\n",
       " {'idx': 300000027,\n",
       "  'name': '전남',\n",
       "  'regions': [{'idx': 200000284, 'name': '여수', 'regions': []},\n",
       "   {'idx': 200000285, 'name': '순천 / 광양', 'regions': []},\n",
       "   {'idx': 200000286, 'name': '구례', 'regions': []},\n",
       "   {'idx': 200000287, 'name': '목포', 'regions': []},\n",
       "   {'idx': 200000288, 'name': '해남', 'regions': []},\n",
       "   {'idx': 200000289, 'name': '완도', 'regions': []},\n",
       "   {'idx': 200000290, 'name': '보성', 'regions': []},\n",
       "   {'idx': 200000291, 'name': '나주', 'regions': []},\n",
       "   {'idx': 200000292, 'name': '담양 / 영광', 'regions': []},\n",
       "   {'idx': 200000293, 'name': '무안', 'regions': []},\n",
       "   {'idx': 200000294, 'name': '신안', 'regions': []},\n",
       "   {'idx': 200000295, 'name': '고흥', 'regions': []},\n",
       "   {'idx': 200000296, 'name': '화순', 'regions': []},\n",
       "   {'idx': 300000027, 'name': '전남 전체', 'regions': []}]},\n",
       " {'idx': 300000028,\n",
       "  'name': '전북',\n",
       "  'regions': [{'idx': 200000297, 'name': '전주', 'regions': []},\n",
       "   {'idx': 200000298, 'name': '군산', 'regions': []},\n",
       "   {'idx': 200000299, 'name': '부안', 'regions': []},\n",
       "   {'idx': 200000300, 'name': '고창', 'regions': []},\n",
       "   {'idx': 200000301, 'name': '남원 / 순창', 'regions': []},\n",
       "   {'idx': 200000302, 'name': '익산', 'regions': []},\n",
       "   {'idx': 200000303, 'name': '완주', 'regions': []},\n",
       "   {'idx': 200000304, 'name': '무주', 'regions': []},\n",
       "   {'idx': 300000028, 'name': '전북 전체', 'regions': []}]},\n",
       " {'idx': 300000029,\n",
       "  'name': '대전',\n",
       "  'regions': [{'idx': 200000305, 'name': '유성구 / 충남대', 'regions': []},\n",
       "   {'idx': 200000306, 'name': '중구 / 은행 / 서대전역', 'regions': []},\n",
       "   {'idx': 200000307, 'name': '동구 / 대덕구 / 신탄진', 'regions': []},\n",
       "   {'idx': 200000308, 'name': '서구 / 둔산 / 대전시청', 'regions': []},\n",
       "   {'idx': 300000029, 'name': '대전 전체', 'regions': []}]},\n",
       " {'idx': 300000030,\n",
       "  'name': '충남',\n",
       "  'regions': [{'idx': 200000309, 'name': '천안', 'regions': []},\n",
       "   {'idx': 200000310, 'name': '아산', 'regions': []},\n",
       "   {'idx': 200000311, 'name': '태안 / 안면도', 'regions': []},\n",
       "   {'idx': 200000312, 'name': '세종', 'regions': []},\n",
       "   {'idx': 200000313, 'name': '금산', 'regions': []},\n",
       "   {'idx': 200000314, 'name': '공주', 'regions': []},\n",
       "   {'idx': 200000315, 'name': '부여', 'regions': []},\n",
       "   {'idx': 200000316, 'name': '보령', 'regions': []},\n",
       "   {'idx': 200000317, 'name': '서산', 'regions': []},\n",
       "   {'idx': 200000318, 'name': '논산', 'regions': []},\n",
       "   {'idx': 200000319, 'name': '서천', 'regions': []},\n",
       "   {'idx': 200000320, 'name': '계룡', 'regions': []},\n",
       "   {'idx': 200000321, 'name': '당진', 'regions': []},\n",
       "   {'idx': 300000030, 'name': '충남 전체', 'regions': []}]},\n",
       " {'idx': 300000031,\n",
       "  'name': '충북',\n",
       "  'regions': [{'idx': 200000322, 'name': '청주 / 진천', 'regions': []},\n",
       "   {'idx': 200000323, 'name': '제천 / 충주', 'regions': []},\n",
       "   {'idx': 200000324, 'name': '단양', 'regions': []},\n",
       "   {'idx': 200000325, 'name': '괴산', 'regions': []},\n",
       "   {'idx': 200000326, 'name': '음성', 'regions': []},\n",
       "   {'idx': 200000327, 'name': '보은', 'regions': []},\n",
       "   {'idx': 200000328, 'name': '영동', 'regions': []},\n",
       "   {'idx': 300000031, 'name': '충북 전체', 'regions': []}]}]"
      ]
     },
     "execution_count": 21,
     "metadata": {},
     "output_type": "execute_result"
    }
   ],
   "source": [
    "region_list = []\n",
    "for i in region['data']:\n",
    "\n",
    "    \n",
    "    region_list.append({\n",
    "        'idx':i['idx'],\n",
    "        'name':i['name'],\n",
    "        'regions':i['regions']\n",
    "    })\n",
    "\n",
    "region_list"
   ]
  },
  {
   "cell_type": "code",
   "execution_count": 25,
   "metadata": {},
   "outputs": [
    {
     "data": {
      "text/plain": [
       "16"
      ]
     },
     "execution_count": 25,
     "metadata": {},
     "output_type": "execute_result"
    }
   ],
   "source": [
    "region_list.__len__()"
   ]
  },
  {
   "cell_type": "code",
   "execution_count": 28,
   "metadata": {},
   "outputs": [
    {
     "data": {
      "text/plain": [
       "(300000016, '서울')"
      ]
     },
     "execution_count": 28,
     "metadata": {},
     "output_type": "execute_result"
    }
   ],
   "source": [
    "region_list[0]['idx'], region_list[0]['name']"
   ]
  },
  {
   "cell_type": "code",
   "execution_count": 29,
   "metadata": {},
   "outputs": [
    {
     "data": {
      "text/plain": [
       "[{'idx': 200000151, 'name': '강남 / 역삼 / 삼성', 'regions': []},\n",
       " {'idx': 200000152, 'name': '서초 / 교대 / 방배', 'regions': []},\n",
       " {'idx': 200000153, 'name': '사당', 'regions': []},\n",
       " {'idx': 200000154, 'name': '신사 / 압구정 / 청담', 'regions': []},\n",
       " {'idx': 200000155, 'name': '잠실 / 송파 / 잠실새내 / 천호 / 강동', 'regions': []},\n",
       " {'idx': 200000156, 'name': '서울역 / 이태원 / 용산', 'regions': []},\n",
       " {'idx': 200000157, 'name': '명동 / 중구', 'regions': []},\n",
       " {'idx': 200000158, 'name': '을지로 / 충무로', 'regions': []},\n",
       " {'idx': 200000159, 'name': '종로 / 동대문 / 대학로', 'regions': []},\n",
       " {'idx': 200000160, 'name': '인사동', 'regions': []},\n",
       " {'idx': 200000161, 'name': '서대문 / 마포 / 신촌 / 홍대', 'regions': []},\n",
       " {'idx': 200000162, 'name': '영등포', 'regions': []},\n",
       " {'idx': 200000163, 'name': '여의도', 'regions': []},\n",
       " {'idx': 200000164, 'name': '신림 / 서울대', 'regions': []},\n",
       " {'idx': 200000165, 'name': '구로 / 금천', 'regions': []},\n",
       " {'idx': 200000166, 'name': '김포공항', 'regions': []},\n",
       " {'idx': 200000167, 'name': '강서 / 화곡', 'regions': []},\n",
       " {'idx': 200000168, 'name': '건대 / 성수', 'regions': []},\n",
       " {'idx': 200000169, 'name': '왕십리', 'regions': []},\n",
       " {'idx': 200000170, 'name': '군자 / 상봉 / 중랑구', 'regions': []},\n",
       " {'idx': 200000171, 'name': '장안 / 청량리', 'regions': []},\n",
       " {'idx': 200000172, 'name': '강북 / 수유 / 도봉 / 미아 / 성북 / 노원', 'regions': []},\n",
       " {'idx': 300000016, 'name': '서울 전체', 'regions': []}]"
      ]
     },
     "execution_count": 29,
     "metadata": {},
     "output_type": "execute_result"
    }
   ],
   "source": [
    "region_list[0]['regions']"
   ]
  },
  {
   "cell_type": "code",
   "execution_count": null,
   "metadata": {},
   "outputs": [],
   "source": [
    "for region in region_list:\n",
    "    r_idx = region['idx']\n",
    "    r_name = region['name']\n",
    "        for city in region['regions']:\n",
    "            c_idx = city['idx']\n",
    "            c_name = city['name']\n",
    "\n",
    "            url = f'https://www.dailyhotel.com/stays?shortCutType=stayAll&regionStayType=new_all&dateCheckIn=2023-11-06&rai={c_idx}&rpi={r_idx}&stays=1&reg=0'\n",
    "            https://www.dailyhotel.com/newdelhi/goodnight/api/v10/stay/plp/list?dateCheckIn=2023-11-06&regionIdx=200000151&shortCutType=stayAll&persons=1&stays=1&details=true&regionStayType=new_all&stayType=&page=1&limit=50\n",
    "\n"
   ]
  },
  {
   "cell_type": "code",
   "execution_count": null,
   "metadata": {},
   "outputs": [],
   "source": [
    "url = 'https://www.dailyhotel.com/newdelhi/goodnight/api/v10/stay/plp/list?dateCheckIn=2023-11-06&regionIdx=200000151&shortCutType=stayAll&persons=1&stays=1&details=true&regionStayType=new_all&stayType=&page=1&limit=50'\n",
    "\n",
    "res = requests.get(url, headers=headers)\n",
    "detail = json.loads(res.text)\n"
   ]
  },
  {
   "cell_type": "code",
   "execution_count": 32,
   "metadata": {},
   "outputs": [
    {
     "data": {
      "text/plain": [
       "(5, dict_keys(['msgCode', 'msg', 'data', 'diModel', 'dateTime']))"
      ]
     },
     "execution_count": 32,
     "metadata": {},
     "output_type": "execute_result"
    }
   ],
   "source": [
    "detail.__len__(), detail.keys()"
   ]
  },
  {
   "cell_type": "code",
   "execution_count": 38,
   "metadata": {},
   "outputs": [
    {
     "data": {
      "text/plain": [
       "dict_keys(['staySaleSections', 'stays', 'staySalesCount', 'searchMaxCount', 'configurations', 'filterResults', 'appliedStaySaleType', 'cacheKey'])"
      ]
     },
     "execution_count": 38,
     "metadata": {},
     "output_type": "execute_result"
    }
   ],
   "source": [
    "detail['data'].keys()"
   ]
  },
  {
   "cell_type": "code",
   "execution_count": 47,
   "metadata": {},
   "outputs": [
    {
     "data": {
      "text/plain": [
       "88"
      ]
     },
     "execution_count": 47,
     "metadata": {},
     "output_type": "execute_result"
    }
   ],
   "source": [
    "detail['data']['staySalesCount']"
   ]
  },
  {
   "cell_type": "code",
   "execution_count": 52,
   "metadata": {},
   "outputs": [
    {
     "data": {
      "text/plain": [
       "3"
      ]
     },
     "execution_count": 52,
     "metadata": {},
     "output_type": "execute_result"
    }
   ],
   "source": [
    "detail['data']['staySaleSections'].__len__()"
   ]
  },
  {
   "cell_type": "code",
   "execution_count": 56,
   "metadata": {},
   "outputs": [
    {
     "data": {
      "text/plain": [
       "dict_keys(['sectionTitle', 'adName', 'adPopupMessage', 'sectionViewType', 'sectionType', 'staySales'])"
      ]
     },
     "execution_count": 56,
     "metadata": {},
     "output_type": "execute_result"
    }
   ],
   "source": [
    "detail['data']['staySaleSections'][0].keys()"
   ]
  },
  {
   "cell_type": "code",
   "execution_count": 57,
   "metadata": {},
   "outputs": [
    {
     "data": {
      "text/plain": [
       "dict_keys(['sectionTitle', 'adName', 'adPopupMessage', 'sectionViewType', 'sectionType', 'staySales'])"
      ]
     },
     "execution_count": 57,
     "metadata": {},
     "output_type": "execute_result"
    }
   ],
   "source": [
    "detail['data']['staySaleSections'][1].keys()"
   ]
  },
  {
   "cell_type": "code",
   "execution_count": null,
   "metadata": {},
   "outputs": [],
   "source": []
  },
  {
   "cell_type": "code",
   "execution_count": null,
   "metadata": {},
   "outputs": [],
   "source": []
  },
  {
   "cell_type": "code",
   "execution_count": null,
   "metadata": {},
   "outputs": [],
   "source": []
  },
  {
   "cell_type": "code",
   "execution_count": 22,
   "metadata": {},
   "outputs": [
    {
     "ename": "SyntaxError",
     "evalue": "invalid syntax (1557031040.py, line 1)",
     "output_type": "error",
     "traceback": [
      "\u001b[0;36m  Cell \u001b[0;32mIn[22], line 1\u001b[0;36m\u001b[0m\n\u001b[0;31m    강남 예시\u001b[0m\n\u001b[0m       ^\u001b[0m\n\u001b[0;31mSyntaxError\u001b[0m\u001b[0;31m:\u001b[0m invalid syntax\n"
     ]
    }
   ],
   "source": [
    "강남 예시 "
   ]
  },
  {
   "cell_type": "code",
   "execution_count": null,
   "metadata": {},
   "outputs": [],
   "source": []
  },
  {
   "cell_type": "markdown",
   "metadata": {},
   "source": [
    "강남 예시 200000151, 300000016\n",
    "https://www.dailyhotel.com/stays?shortCutType=stayAll&regionStayType=new_all&dateCheckIn=2023-11-06&rai=200000151&rpi=300000016&stays=1&reg=0"
   ]
  }
 ],
 "metadata": {
  "kernelspec": {
   "display_name": "Python 3",
   "language": "python",
   "name": "python3"
  },
  "language_info": {
   "codemirror_mode": {
    "name": "ipython",
    "version": 3
   },
   "file_extension": ".py",
   "mimetype": "text/x-python",
   "name": "python",
   "nbconvert_exporter": "python",
   "pygments_lexer": "ipython3",
   "version": "3.8.18"
  }
 },
 "nbformat": 4,
 "nbformat_minor": 2
}
