{
 "cells": [
  {
   "cell_type": "code",
   "execution_count": null,
   "metadata": {},
   "outputs": [],
   "source": [
    "pip install transformers"
   ]
  },
  {
   "cell_type": "code",
   "execution_count": null,
   "metadata": {},
   "outputs": [],
   "source": [
    "import pandas as pd\n",
    "import numpy as np"
   ]
  },
  {
   "cell_type": "code",
   "execution_count": null,
   "metadata": {},
   "outputs": [],
   "source": [
    "df = pd.read_csv('../interpark.csv', index_col=0)\n",
    "df"
   ]
  },
  {
   "cell_type": "code",
   "execution_count": null,
   "metadata": {},
   "outputs": [],
   "source": [
    "import ast \n",
    "df['rates'] = df['rates'].apply(ast.literal_eval)   \n",
    "df['rates2'] = df['rates'].apply(lambda x: [5, 5, 5, 5, 5] if sum(x) == 50 else x)"
   ]
  },
  {
   "cell_type": "code",
   "execution_count": null,
   "metadata": {},
   "outputs": [],
   "source": [
    "max_length = 30\n",
    "batch_size = 64\n",
    "num_epochs = 3\n",
    "valid_split = 0.2"
   ]
  },
  {
   "cell_type": "code",
   "execution_count": null,
   "metadata": {},
   "outputs": [],
   "source": [
    "from transformers import BertTokenizer, BertForSequenceClassification\n",
    "from transformers import AdamW\n",
    "import torch\n",
    "from torch.utils.data import DataLoader, TensorDataset\n",
    "from tqdm import tqdm\n",
    "\n",
    "# 데이터셋 가정 (실제 데이터에 맞게 수정 필요)\n",
    "texts = df['review'].tolist()\n",
    "labels = df['rates2'].tolist()\n",
    "\n",
    "# 레이블 수\n",
    "num_labels = len(labels[0])\n",
    "\n",
    "# KoBERT 토크나이저 로딩\n",
    "tokenizer = BertTokenizer.from_pretrained('monologg/kobert', do_lower_case=False)\n",
    "\n",
    "# 토큰화 함수 정의\n",
    "def tokenize_texts(texts):\n",
    "    return tokenizer(texts, padding=True, truncation=True, max_length=max_length, return_tensors=\"pt\")\n",
    "\n",
    "# 데이터를 토큰화\n",
    "tokenized_texts = tokenize_texts(texts)\n",
    "labels = torch.tensor(labels, dtype=torch.float)\n",
    "\n",
    "# TensorDataset 생성\n",
    "dataset = TensorDataset(tokenized_texts['input_ids'], tokenized_texts['attention_mask'], tokenized_texts['token_type_ids'], labels)\n",
    "\n",
    "# DataLoader 생성\n",
    "dataloader = DataLoader(dataset, batch_size=batch_size, shuffle=True)\n",
    "\n",
    "# 모델 로딩\n",
    "model = BertForSequenceClassification.from_pretrained('monologg/kobert', num_labels=num_labels)\n",
    "\n",
    "# 옵티마이저 설정\n",
    "optimizer = AdamW(model.parameters(), lr=5e-5)\n",
    "\n",
    "# 모델 학습\n",
    "for epoch in tqdm(range(1)):\n",
    "    for batch in dataloader:\n",
    "        input_ids, attention_masks, token_type_ids, labels = batch\n",
    "        outputs = model(input_ids=input_ids, attention_mask=attention_masks, token_type_ids=token_type_ids, labels=labels)\n",
    "        loss = outputs.loss\n",
    "        loss.backward()\n",
    "        optimizer.step()\n",
    "        optimizer.zero_grad()\n"
   ]
  },
  {
   "cell_type": "code",
   "execution_count": null,
   "metadata": {},
   "outputs": [],
   "source": [
    "env_name = ['시설(객실/부대시설)',\n",
    "'위치',\n",
    "'청결',\n",
    "'서비스',\n",
    "'분위기']\n",
    "\n",
    "def predict_labels(test_texts):\n",
    "    test_tokenized_texts = tokenizer(test_texts, padding=True, truncation=True, return_tensors=\"pt\")\n",
    "    test_outputs = model(**test_tokenized_texts)\n",
    "    predicted_probs = torch.sigmoid(test_outputs.logits)\n",
    "\n",
    "    # 결과 출력\n",
    "    for i, test_text in enumerate(test_texts):\n",
    "        print(f\"입력값: {test_text}\")\n",
    "        for j, prob in enumerate(predicted_probs[i]):\n",
    "            print(f\"{env_name[j]} : {prob.item()*100:.2f}%\")\n",
    "        print(\"\\n\")\n",
    "\n",
    "# 테스트 실행\n",
    "test_texts = [\"아무리 회원이 아니고 숙박앱 통해서 갔다해도 이건 너무하네요.\", \"경치가 좋은 곳에 가고싶어요.\"]\n",
    "predict_labels(test_texts)"
   ]
  },
  {
   "cell_type": "markdown",
   "metadata": {},
   "source": [
    "입력값: 아무리 회원이 아니고 숙박앱 통해서 갔다해도 이건 너무하네요.\n",
    "시설(객실/부대시설) : 58.14%\n",
    "위치 : 68.78%\n",
    "청결 : 61.07%\n",
    "서비스 : 49.42%\n",
    "분위기 : 49.03%\n",
    "\n",
    "\n",
    "입력값: 경치가 좋은 곳에 가고싶어요.\n",
    "시설(객실/부대시설) : 57.81%\n",
    "위치 : 68.32%\n",
    "청결 : 60.51%\n",
    "서비스 : 45.64%\n",
    "분위기 : 49.13%"
   ]
  }
 ],
 "metadata": {
  "language_info": {
   "name": "python"
  }
 },
 "nbformat": 4,
 "nbformat_minor": 2
}
