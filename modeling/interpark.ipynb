{
 "cells": [
  {
   "cell_type": "code",
   "execution_count": 18,
   "metadata": {},
   "outputs": [],
   "source": [
    "import requests\n",
    "import pandas as pd\n",
    "import numpy as np\n",
    "from bs4 import BeautifulSoup\n",
    "import json"
   ]
  },
  {
   "cell_type": "code",
   "execution_count": 117,
   "metadata": {},
   "outputs": [],
   "source": [
    "url = 'https://travel.interpark.com/api/checkinnow/review/review/goods/GN0002153019'\n",
    " \n",
    "headers = {\n",
    "    \"Accept-Language\":\"ko-KR,ko;q=0.9,en-US;q=0.8,en;q=0.7\",\n",
    "    \"Content-Type\":\"application/json;charset=UTF-8\",\n",
    "    \"User-Agent\":\"Mozilla/5.0 (Windows NT 10.0; Win64; x64) AppleWebKit/537.36 (KHTML, like Gecko) Chrome/119.0.0.0 Safari/537.36\",\n",
    "    \"Referer\":\"https://travel.interpark.com/checkinnow/goods/GN0002153019?startdate=20231112&enddate=20231113&roomOptions=0%5E2%5E0%5E&npprmaxsort=min\"\n",
    "            }\n",
    "\n",
    "data = {'breakFastInclsYn': \"\",\n",
    "        'imageYn': \"\",\n",
    "        'keyword': \"\",\n",
    "        'pageNo': 1,\n",
    "        'pageSize': 10,\n",
    "        'roomGradTys': \"\",\n",
    "        'roomViewTys': \"\",\n",
    "        'tourTy': \"\"}\n",
    "\n",
    "data_json = json.dumps(data, ensure_ascii=False).encode('utf-8')"
   ]
  },
  {
   "cell_type": "code",
   "execution_count": 124,
   "metadata": {},
   "outputs": [
    {
     "data": {
      "text/plain": [
       "87"
      ]
     },
     "execution_count": 124,
     "metadata": {},
     "output_type": "execute_result"
    }
   ],
   "source": [
    "j_text['links']['totalCnt'] // 10 + 1"
   ]
  },
  {
   "cell_type": "code",
   "execution_count": 137,
   "metadata": {},
   "outputs": [],
   "source": [
    "res = requests.post(url=url, data=data_json, headers=headers)\n",
    "j_text = json.loads(res.text)\n",
    "\n",
    "\n",
    "test = pd.DataFrame()\n",
    "data['pageNo'] = 1\n",
    "while data['pageNo'] <= j_text['links']['totalCnt'] // 10 + 1:\n",
    "\n",
    "    data_json = json.dumps(data, ensure_ascii=False).encode('utf-8')\n",
    "    res = requests.post(url=url, data=data_json, headers=headers)\n",
    "    j_text = json.loads(res.text)\n",
    "    row = []\n",
    "    for i in j_text['data']['goodsEvaluationsVo']:\n",
    "        env =[]\n",
    "        \n",
    "        for j in i['serviceEvalVo']:\n",
    "            env.append(j['svcEvlGrade'])\n",
    "\n",
    "        row.append({\n",
    "            'review': i['evlCn'],\n",
    "            'date': i['regDt'],\n",
    "            'rates': env})\n",
    "    test = pd.concat([test, pd.DataFrame(row)], ignore_index=True)\n",
    "    data['pageNo'] += 1"
   ]
  },
  {
   "cell_type": "code",
   "execution_count": 136,
   "metadata": {},
   "outputs": [
    {
     "data": {
      "text/plain": [
       "{'breakFastInclsYn': '',\n",
       " 'imageYn': '',\n",
       " 'keyword': '',\n",
       " 'pageNo': 11,\n",
       " 'pageSize': 10,\n",
       " 'roomGradTys': '',\n",
       " 'roomViewTys': '',\n",
       " 'tourTy': ''}"
      ]
     },
     "execution_count": 136,
     "metadata": {},
     "output_type": "execute_result"
    }
   ],
   "source": [
    "data"
   ]
  },
  {
   "cell_type": "code",
   "execution_count": 135,
   "metadata": {},
   "outputs": [
    {
     "data": {
      "text/plain": [
       "11"
      ]
     },
     "execution_count": 135,
     "metadata": {},
     "output_type": "execute_result"
    }
   ],
   "source": [
    "data['pageNo']"
   ]
  },
  {
   "cell_type": "code",
   "execution_count": 127,
   "metadata": {},
   "outputs": [],
   "source": [
    "env_name = ['시설(객실/부대시설)',\n",
    "'위치',\n",
    "'청결',\n",
    "'서비스',\n",
    "'분위기']"
   ]
  },
  {
   "cell_type": "code",
   "execution_count": 153,
   "metadata": {},
   "outputs": [
    {
     "data": {
      "text/plain": [
       "864"
      ]
     },
     "execution_count": 153,
     "metadata": {},
     "output_type": "execute_result"
    }
   ],
   "source": [
    "len(test['rates'])"
   ]
  },
  {
   "cell_type": "code",
   "execution_count": 154,
   "metadata": {},
   "outputs": [
    {
     "data": {
      "text/html": [
       "<div>\n",
       "<style scoped>\n",
       "    .dataframe tbody tr th:only-of-type {\n",
       "        vertical-align: middle;\n",
       "    }\n",
       "\n",
       "    .dataframe tbody tr th {\n",
       "        vertical-align: top;\n",
       "    }\n",
       "\n",
       "    .dataframe thead th {\n",
       "        text-align: right;\n",
       "    }\n",
       "</style>\n",
       "<table border=\"1\" class=\"dataframe\">\n",
       "  <thead>\n",
       "    <tr style=\"text-align: right;\">\n",
       "      <th></th>\n",
       "      <th>review</th>\n",
       "      <th>date</th>\n",
       "      <th>rates</th>\n",
       "    </tr>\n",
       "  </thead>\n",
       "  <tbody>\n",
       "    <tr>\n",
       "      <th>221</th>\n",
       "      <td>&lt;p style=\"color: gray;\"&gt;※ 네이버블로그, 티스토리 같은 외부 블...</td>\n",
       "      <td>2019-11-27</td>\n",
       "      <td>[]</td>\n",
       "    </tr>\n",
       "    <tr>\n",
       "      <th>222</th>\n",
       "      <td>&lt;p&gt;전에도 늘 묵었던 곳으로 인상이 좋아 계속 갑니다. 이젠 오래되어 낡고 한산하...</td>\n",
       "      <td>2019-11-25</td>\n",
       "      <td>[]</td>\n",
       "    </tr>\n",
       "    <tr>\n",
       "      <th>223</th>\n",
       "      <td>&lt;p&gt;금호설악리조트를이용했습니다&lt;/p&gt;&lt;p&gt;일단교통편으로는자가용으로이용가능했고룸은넓...</td>\n",
       "      <td>2019-11-17</td>\n",
       "      <td>[]</td>\n",
       "    </tr>\n",
       "    <tr>\n",
       "      <th>224</th>\n",
       "      <td>&lt;p&gt;금호설악리조트스텐다드룸을이용했습니다&lt;/p&gt;&lt;p&gt;비수기이고가격도저렴하고쾌적하고너...</td>\n",
       "      <td>2019-11-17</td>\n",
       "      <td>[]</td>\n",
       "    </tr>\n",
       "    <tr>\n",
       "      <th>225</th>\n",
       "      <td>&lt;p&gt;가을여행하면 강원도이고 숙박을 이용하려면 금호콘도가 가격도 좋고&lt;/p&gt;&lt;p&gt;깨...</td>\n",
       "      <td>2019-11-03</td>\n",
       "      <td>[]</td>\n",
       "    </tr>\n",
       "    <tr>\n",
       "      <th>...</th>\n",
       "      <td>...</td>\n",
       "      <td>...</td>\n",
       "      <td>...</td>\n",
       "    </tr>\n",
       "    <tr>\n",
       "      <th>859</th>\n",
       "      <td>&lt;b&gt;&lt;font color=red&gt;≪ 웰빙패키지 내용 ≫&lt;br&gt;\\r\\n27평+사우나...</td>\n",
       "      <td>2005-06-10</td>\n",
       "      <td>[]</td>\n",
       "    </tr>\n",
       "    <tr>\n",
       "      <th>860</th>\n",
       "      <td>&lt;img src=\"http://ticketimage.interpark.com/Hou...</td>\n",
       "      <td>2005-04-27</td>\n",
       "      <td>[]</td>\n",
       "    </tr>\n",
       "    <tr>\n",
       "      <th>861</th>\n",
       "      <td>여행일정이 불로 인해 대부분 취소가 되 기분이 별로 였어요. 더구나 부모님과 같이였...</td>\n",
       "      <td>2005-04-07</td>\n",
       "      <td>[]</td>\n",
       "    </tr>\n",
       "    <tr>\n",
       "      <th>862</th>\n",
       "      <td>이번해가 가기전에 동해바다를 볼 작정으로 휴가를 내고 금호리조트예약하고 \\r\\n갔었...</td>\n",
       "      <td>2004-12-06</td>\n",
       "      <td>[]</td>\n",
       "    </tr>\n",
       "    <tr>\n",
       "      <th>863</th>\n",
       "      <td>몇 년전에 갔다가 오랫만에 다시 찾아가본 금호리조트...\\r\\n그 때도 참 조용하고...</td>\n",
       "      <td>2004-11-23</td>\n",
       "      <td>[]</td>\n",
       "    </tr>\n",
       "  </tbody>\n",
       "</table>\n",
       "<p>643 rows × 3 columns</p>\n",
       "</div>"
      ],
      "text/plain": [
       "                                                review        date rates\n",
       "221  <p style=\"color: gray;\">※ 네이버블로그, 티스토리 같은 외부 블...  2019-11-27    []\n",
       "222  <p>전에도 늘 묵었던 곳으로 인상이 좋아 계속 갑니다. 이젠 오래되어 낡고 한산하...  2019-11-25    []\n",
       "223  <p>금호설악리조트를이용했습니다</p><p>일단교통편으로는자가용으로이용가능했고룸은넓...  2019-11-17    []\n",
       "224  <p>금호설악리조트스텐다드룸을이용했습니다</p><p>비수기이고가격도저렴하고쾌적하고너...  2019-11-17    []\n",
       "225  <p>가을여행하면 강원도이고 숙박을 이용하려면 금호콘도가 가격도 좋고</p><p>깨...  2019-11-03    []\n",
       "..                                                 ...         ...   ...\n",
       "859  <b><font color=red>≪ 웰빙패키지 내용 ≫<br>\\r\\n27평+사우나...  2005-06-10    []\n",
       "860  <img src=\"http://ticketimage.interpark.com/Hou...  2005-04-27    []\n",
       "861  여행일정이 불로 인해 대부분 취소가 되 기분이 별로 였어요. 더구나 부모님과 같이였...  2005-04-07    []\n",
       "862  이번해가 가기전에 동해바다를 볼 작정으로 휴가를 내고 금호리조트예약하고 \\r\\n갔었...  2004-12-06    []\n",
       "863  몇 년전에 갔다가 오랫만에 다시 찾아가본 금호리조트...\\r\\n그 때도 참 조용하고...  2004-11-23    []\n",
       "\n",
       "[643 rows x 3 columns]"
      ]
     },
     "execution_count": 154,
     "metadata": {},
     "output_type": "execute_result"
    }
   ],
   "source": [
    "test[test['rates'].apply(len) == 0]"
   ]
  },
  {
   "cell_type": "code",
   "execution_count": 155,
   "metadata": {},
   "outputs": [
    {
     "data": {
      "text/html": [
       "<div>\n",
       "<style scoped>\n",
       "    .dataframe tbody tr th:only-of-type {\n",
       "        vertical-align: middle;\n",
       "    }\n",
       "\n",
       "    .dataframe tbody tr th {\n",
       "        vertical-align: top;\n",
       "    }\n",
       "\n",
       "    .dataframe thead th {\n",
       "        text-align: right;\n",
       "    }\n",
       "</style>\n",
       "<table border=\"1\" class=\"dataframe\">\n",
       "  <thead>\n",
       "    <tr style=\"text-align: right;\">\n",
       "      <th></th>\n",
       "      <th>review</th>\n",
       "      <th>date</th>\n",
       "      <th>rates</th>\n",
       "    </tr>\n",
       "  </thead>\n",
       "  <tbody>\n",
       "    <tr>\n",
       "      <th>0</th>\n",
       "      <td>이박하는 동안불편함없이 객실도깨끗하고 식기류도 깔끔해서좋습니다 황태해장국도 맛나고....</td>\n",
       "      <td>2023-11-10</td>\n",
       "      <td>[10, 10, 10, 10, 10]</td>\n",
       "    </tr>\n",
       "    <tr>\n",
       "      <th>1</th>\n",
       "      <td>날씨가 흐렸지만.\\n쾌적하게 잘 다녀왔어요....\\n방 배정도 잘 받아서  방해받지...</td>\n",
       "      <td>2023-09-06</td>\n",
       "      <td>[10, 10, 10, 10, 10]</td>\n",
       "    </tr>\n",
       "    <tr>\n",
       "      <th>2</th>\n",
       "      <td>오래됐지만 괜찮은 숙소</td>\n",
       "      <td>2023-09-05</td>\n",
       "      <td>[8, 8, 8, 8, 8]</td>\n",
       "    </tr>\n",
       "    <tr>\n",
       "      <th>3</th>\n",
       "      <td>막  들어가자마자  오래된 냄새 빼고는 몇년전에  리모델링해서 깔끔하고  좋았어요 ...</td>\n",
       "      <td>2023-09-03</td>\n",
       "      <td>[10, 10, 10, 10, 10]</td>\n",
       "    </tr>\n",
       "    <tr>\n",
       "      <th>4</th>\n",
       "      <td>설악산갈때마다이용하는리조트입니다.2년전에는부분적으로리모델링이되어있었는데이번에가보니객...</td>\n",
       "      <td>2023-07-19</td>\n",
       "      <td>[10, 10, 10, 10, 10]</td>\n",
       "    </tr>\n",
       "    <tr>\n",
       "      <th>...</th>\n",
       "      <td>...</td>\n",
       "      <td>...</td>\n",
       "      <td>...</td>\n",
       "    </tr>\n",
       "    <tr>\n",
       "      <th>220</th>\n",
       "      <td>물도 좋고 공기도 좋고 넓은 스위트 디럭스 방문을 여니 뽀송뽀송한 좋은 침구 냄새와...</td>\n",
       "      <td>2019-12-23</td>\n",
       "      <td>[10, 10, 10, 10, 10]</td>\n",
       "    </tr>\n",
       "    <tr>\n",
       "      <th>221</th>\n",
       "      <td>&lt;p style=\"color: gray;\"&gt;※ 네이버블로그, 티스토리 같은 외부 블...</td>\n",
       "      <td>2019-11-27</td>\n",
       "      <td>[]</td>\n",
       "    </tr>\n",
       "    <tr>\n",
       "      <th>222</th>\n",
       "      <td>&lt;p&gt;전에도 늘 묵었던 곳으로 인상이 좋아 계속 갑니다. 이젠 오래되어 낡고 한산하...</td>\n",
       "      <td>2019-11-25</td>\n",
       "      <td>[]</td>\n",
       "    </tr>\n",
       "    <tr>\n",
       "      <th>223</th>\n",
       "      <td>&lt;p&gt;금호설악리조트를이용했습니다&lt;/p&gt;&lt;p&gt;일단교통편으로는자가용으로이용가능했고룸은넓...</td>\n",
       "      <td>2019-11-17</td>\n",
       "      <td>[]</td>\n",
       "    </tr>\n",
       "    <tr>\n",
       "      <th>224</th>\n",
       "      <td>&lt;p&gt;금호설악리조트스텐다드룸을이용했습니다&lt;/p&gt;&lt;p&gt;비수기이고가격도저렴하고쾌적하고너...</td>\n",
       "      <td>2019-11-17</td>\n",
       "      <td>[]</td>\n",
       "    </tr>\n",
       "  </tbody>\n",
       "</table>\n",
       "<p>225 rows × 3 columns</p>\n",
       "</div>"
      ],
      "text/plain": [
       "                                                review        date  \\\n",
       "0    이박하는 동안불편함없이 객실도깨끗하고 식기류도 깔끔해서좋습니다 황태해장국도 맛나고....  2023-11-10   \n",
       "1    날씨가 흐렸지만.\\n쾌적하게 잘 다녀왔어요....\\n방 배정도 잘 받아서  방해받지...  2023-09-06   \n",
       "2                                         오래됐지만 괜찮은 숙소  2023-09-05   \n",
       "3    막  들어가자마자  오래된 냄새 빼고는 몇년전에  리모델링해서 깔끔하고  좋았어요 ...  2023-09-03   \n",
       "4    설악산갈때마다이용하는리조트입니다.2년전에는부분적으로리모델링이되어있었는데이번에가보니객...  2023-07-19   \n",
       "..                                                 ...         ...   \n",
       "220  물도 좋고 공기도 좋고 넓은 스위트 디럭스 방문을 여니 뽀송뽀송한 좋은 침구 냄새와...  2019-12-23   \n",
       "221  <p style=\"color: gray;\">※ 네이버블로그, 티스토리 같은 외부 블...  2019-11-27   \n",
       "222  <p>전에도 늘 묵었던 곳으로 인상이 좋아 계속 갑니다. 이젠 오래되어 낡고 한산하...  2019-11-25   \n",
       "223  <p>금호설악리조트를이용했습니다</p><p>일단교통편으로는자가용으로이용가능했고룸은넓...  2019-11-17   \n",
       "224  <p>금호설악리조트스텐다드룸을이용했습니다</p><p>비수기이고가격도저렴하고쾌적하고너...  2019-11-17   \n",
       "\n",
       "                    rates  \n",
       "0    [10, 10, 10, 10, 10]  \n",
       "1    [10, 10, 10, 10, 10]  \n",
       "2         [8, 8, 8, 8, 8]  \n",
       "3    [10, 10, 10, 10, 10]  \n",
       "4    [10, 10, 10, 10, 10]  \n",
       "..                    ...  \n",
       "220  [10, 10, 10, 10, 10]  \n",
       "221                    []  \n",
       "222                    []  \n",
       "223                    []  \n",
       "224                    []  \n",
       "\n",
       "[225 rows x 3 columns]"
      ]
     },
     "execution_count": 155,
     "metadata": {},
     "output_type": "execute_result"
    }
   ],
   "source": [
    "test.loc[:224,:]"
   ]
  },
  {
   "cell_type": "code",
   "execution_count": 151,
   "metadata": {},
   "outputs": [
    {
     "ename": "KeyError",
     "evalue": "'False: boolean label can not be used without a boolean index'",
     "output_type": "error",
     "traceback": [
      "\u001b[1;31m---------------------------------------------------------------------------\u001b[0m",
      "\u001b[1;31mKeyError\u001b[0m                                  Traceback (most recent call last)",
      "\u001b[1;32mc:\\Users\\user\\Desktop\\final\\interpark.ipynb Cell 8\u001b[0m line \u001b[0;36m1\n\u001b[1;32m----> <a href='vscode-notebook-cell:/c%3A/Users/user/Desktop/final/interpark.ipynb#X36sZmlsZQ%3D%3D?line=0'>1</a>\u001b[0m test\u001b[39m.\u001b[39;49mloc[\u001b[39mlen\u001b[39;49m(test[\u001b[39m'\u001b[39;49m\u001b[39mrates\u001b[39;49m\u001b[39m'\u001b[39;49m]) \u001b[39m==\u001b[39;49m \u001b[39m0\u001b[39;49m]\n",
      "File \u001b[1;32mc:\\Users\\user\\AppData\\Local\\Programs\\Python\\Python311\\Lib\\site-packages\\pandas\\core\\indexing.py:1153\u001b[0m, in \u001b[0;36m_LocationIndexer.__getitem__\u001b[1;34m(self, key)\u001b[0m\n\u001b[0;32m   1150\u001b[0m axis \u001b[39m=\u001b[39m \u001b[39mself\u001b[39m\u001b[39m.\u001b[39maxis \u001b[39mor\u001b[39;00m \u001b[39m0\u001b[39m\n\u001b[0;32m   1152\u001b[0m maybe_callable \u001b[39m=\u001b[39m com\u001b[39m.\u001b[39mapply_if_callable(key, \u001b[39mself\u001b[39m\u001b[39m.\u001b[39mobj)\n\u001b[1;32m-> 1153\u001b[0m \u001b[39mreturn\u001b[39;00m \u001b[39mself\u001b[39;49m\u001b[39m.\u001b[39;49m_getitem_axis(maybe_callable, axis\u001b[39m=\u001b[39;49maxis)\n",
      "File \u001b[1;32mc:\\Users\\user\\AppData\\Local\\Programs\\Python\\Python311\\Lib\\site-packages\\pandas\\core\\indexing.py:1392\u001b[0m, in \u001b[0;36m_LocIndexer._getitem_axis\u001b[1;34m(self, key, axis)\u001b[0m\n\u001b[0;32m   1389\u001b[0m         \u001b[39mreturn\u001b[39;00m \u001b[39mself\u001b[39m\u001b[39m.\u001b[39mobj\u001b[39m.\u001b[39miloc[\u001b[39mtuple\u001b[39m(indexer)]\n\u001b[0;32m   1391\u001b[0m \u001b[39m# fall thru to straight lookup\u001b[39;00m\n\u001b[1;32m-> 1392\u001b[0m \u001b[39mself\u001b[39;49m\u001b[39m.\u001b[39;49m_validate_key(key, axis)\n\u001b[0;32m   1393\u001b[0m \u001b[39mreturn\u001b[39;00m \u001b[39mself\u001b[39m\u001b[39m.\u001b[39m_get_label(key, axis\u001b[39m=\u001b[39maxis)\n",
      "File \u001b[1;32mc:\\Users\\user\\AppData\\Local\\Programs\\Python\\Python311\\Lib\\site-packages\\pandas\\core\\indexing.py:1201\u001b[0m, in \u001b[0;36m_LocIndexer._validate_key\u001b[1;34m(self, key, axis)\u001b[0m\n\u001b[0;32m   1194\u001b[0m ax \u001b[39m=\u001b[39m \u001b[39mself\u001b[39m\u001b[39m.\u001b[39mobj\u001b[39m.\u001b[39m_get_axis(axis)\n\u001b[0;32m   1195\u001b[0m \u001b[39mif\u001b[39;00m \u001b[39misinstance\u001b[39m(key, \u001b[39mbool\u001b[39m) \u001b[39mand\u001b[39;00m \u001b[39mnot\u001b[39;00m (\n\u001b[0;32m   1196\u001b[0m     is_bool_dtype(ax\u001b[39m.\u001b[39mdtype)\n\u001b[0;32m   1197\u001b[0m     \u001b[39mor\u001b[39;00m ax\u001b[39m.\u001b[39mdtype\u001b[39m.\u001b[39mname \u001b[39m==\u001b[39m \u001b[39m\"\u001b[39m\u001b[39mboolean\u001b[39m\u001b[39m\"\u001b[39m\n\u001b[0;32m   1198\u001b[0m     \u001b[39mor\u001b[39;00m \u001b[39misinstance\u001b[39m(ax, MultiIndex)\n\u001b[0;32m   1199\u001b[0m     \u001b[39mand\u001b[39;00m is_bool_dtype(ax\u001b[39m.\u001b[39mget_level_values(\u001b[39m0\u001b[39m)\u001b[39m.\u001b[39mdtype)\n\u001b[0;32m   1200\u001b[0m ):\n\u001b[1;32m-> 1201\u001b[0m     \u001b[39mraise\u001b[39;00m \u001b[39mKeyError\u001b[39;00m(\n\u001b[0;32m   1202\u001b[0m         \u001b[39mf\u001b[39m\u001b[39m\"\u001b[39m\u001b[39m{\u001b[39;00mkey\u001b[39m}\u001b[39;00m\u001b[39m: boolean label can not be used without a boolean index\u001b[39m\u001b[39m\"\u001b[39m\n\u001b[0;32m   1203\u001b[0m     )\n\u001b[0;32m   1205\u001b[0m \u001b[39mif\u001b[39;00m \u001b[39misinstance\u001b[39m(key, \u001b[39mslice\u001b[39m) \u001b[39mand\u001b[39;00m (\n\u001b[0;32m   1206\u001b[0m     \u001b[39misinstance\u001b[39m(key\u001b[39m.\u001b[39mstart, \u001b[39mbool\u001b[39m) \u001b[39mor\u001b[39;00m \u001b[39misinstance\u001b[39m(key\u001b[39m.\u001b[39mstop, \u001b[39mbool\u001b[39m)\n\u001b[0;32m   1207\u001b[0m ):\n\u001b[0;32m   1208\u001b[0m     \u001b[39mraise\u001b[39;00m \u001b[39mTypeError\u001b[39;00m(\u001b[39mf\u001b[39m\u001b[39m\"\u001b[39m\u001b[39m{\u001b[39;00mkey\u001b[39m}\u001b[39;00m\u001b[39m: boolean values can not be used in a slice\u001b[39m\u001b[39m\"\u001b[39m)\n",
      "\u001b[1;31mKeyError\u001b[0m: 'False: boolean label can not be used without a boolean index'"
     ]
    }
   ],
   "source": [
    "test.loc[len(test['rates']) == 0]"
   ]
  },
  {
   "cell_type": "code",
   "execution_count": 144,
   "metadata": {},
   "outputs": [],
   "source": [
    "test.to_csv('data.csv')"
   ]
  },
  {
   "cell_type": "code",
   "execution_count": 131,
   "metadata": {},
   "outputs": [
    {
     "data": {
      "text/plain": [
       "860"
      ]
     },
     "execution_count": 131,
     "metadata": {},
     "output_type": "execute_result"
    }
   ],
   "source": [
    "test['review'].duplicated().sum()"
   ]
  },
  {
   "cell_type": "code",
   "execution_count": 142,
   "metadata": {},
   "outputs": [
    {
     "data": {
      "text/plain": [
       "9"
      ]
     },
     "execution_count": 142,
     "metadata": {},
     "output_type": "execute_result"
    }
   ],
   "source": [
    "test['review']"
   ]
  },
  {
   "cell_type": "code",
   "execution_count": 99,
   "metadata": {},
   "outputs": [
    {
     "data": {
      "text/html": [
       "<div>\n",
       "<style scoped>\n",
       "    .dataframe tbody tr th:only-of-type {\n",
       "        vertical-align: middle;\n",
       "    }\n",
       "\n",
       "    .dataframe tbody tr th {\n",
       "        vertical-align: top;\n",
       "    }\n",
       "\n",
       "    .dataframe thead th {\n",
       "        text-align: right;\n",
       "    }\n",
       "</style>\n",
       "<table border=\"1\" class=\"dataframe\">\n",
       "  <thead>\n",
       "    <tr style=\"text-align: right;\">\n",
       "      <th></th>\n",
       "      <th>review</th>\n",
       "      <th>rates</th>\n",
       "    </tr>\n",
       "  </thead>\n",
       "  <tbody>\n",
       "    <tr>\n",
       "      <th>0</th>\n",
       "      <td>안내받았으나ㅎㅎ 로비부터 기중기?그런게 있을줄이야ㅎㅎ\\n그렇게시끄럽진않은데 밖에서 ...</td>\n",
       "      <td>[10, 10, 10, 10, 6]</td>\n",
       "    </tr>\n",
       "    <tr>\n",
       "      <th>1</th>\n",
       "      <td>시설이 오래 되긴 했죠. 워낙 속초 고성권에 새로운 리조트호텔들이 들어서기 시작해서...</td>\n",
       "      <td>[8, 8, 8, 10, 8]</td>\n",
       "    </tr>\n",
       "    <tr>\n",
       "      <th>2</th>\n",
       "      <td>난방도 잘 들어오고 조식도 괜찮습니다.</td>\n",
       "      <td>[6, 10, 6, 6, 6]</td>\n",
       "    </tr>\n",
       "    <tr>\n",
       "      <th>3</th>\n",
       "      <td>숙소 위치가 이동하기 편리하고 방에서 보이는 전망도 좋습니다.</td>\n",
       "      <td>[6, 10, 6, 6, 6]</td>\n",
       "    </tr>\n",
       "    <tr>\n",
       "      <th>4</th>\n",
       "      <td>리모델링해서 깨끗하고 조식도 맛있네요</td>\n",
       "      <td>[10, 10, 10, 10, 10]</td>\n",
       "    </tr>\n",
       "    <tr>\n",
       "      <th>5</th>\n",
       "      <td>시설 사우나 다 좋은데\\n뷰가 없고 위치도 애매한..\\n그래도 가성비는 좋네요</td>\n",
       "      <td>[10, 10, 10, 10, 10]</td>\n",
       "    </tr>\n",
       "    <tr>\n",
       "      <th>6</th>\n",
       "      <td>남편의 은퇴후 \\n좋아하는 동해안 여행으로 선택한 금호설악리조트\\n그전에도 방문한적...</td>\n",
       "      <td>[10, 10, 10, 10, 10]</td>\n",
       "    </tr>\n",
       "    <tr>\n",
       "      <th>7</th>\n",
       "      <td>휴그린 스위트 리모델링해서 아주 깔끔했습니다 \\n그런데 들어가자 마자 화장실을 락스...</td>\n",
       "      <td>[10, 10, 10, 10, 10]</td>\n",
       "    </tr>\n",
       "    <tr>\n",
       "      <th>8</th>\n",
       "      <td>연세가 많은 부모님을 모시고 간 속초여행이었는데, 숙소도 편하고 조식도 아주 좋았습...</td>\n",
       "      <td>[10, 10, 10, 10, 10]</td>\n",
       "    </tr>\n",
       "    <tr>\n",
       "      <th>9</th>\n",
       "      <td>아이랑 둘이 여행 가서 묵었는데 창문밖은 공사 중이라 문도 못 열고. 불편. 오랜만...</td>\n",
       "      <td>[8, 8, 8, 8, 8]</td>\n",
       "    </tr>\n",
       "  </tbody>\n",
       "</table>\n",
       "</div>"
      ],
      "text/plain": [
       "                                              review                 rates\n",
       "0  안내받았으나ㅎㅎ 로비부터 기중기?그런게 있을줄이야ㅎㅎ\\n그렇게시끄럽진않은데 밖에서 ...   [10, 10, 10, 10, 6]\n",
       "1  시설이 오래 되긴 했죠. 워낙 속초 고성권에 새로운 리조트호텔들이 들어서기 시작해서...      [8, 8, 8, 10, 8]\n",
       "2                              난방도 잘 들어오고 조식도 괜찮습니다.      [6, 10, 6, 6, 6]\n",
       "3                 숙소 위치가 이동하기 편리하고 방에서 보이는 전망도 좋습니다.      [6, 10, 6, 6, 6]\n",
       "4                               리모델링해서 깨끗하고 조식도 맛있네요  [10, 10, 10, 10, 10]\n",
       "5        시설 사우나 다 좋은데\\n뷰가 없고 위치도 애매한..\\n그래도 가성비는 좋네요  [10, 10, 10, 10, 10]\n",
       "6  남편의 은퇴후 \\n좋아하는 동해안 여행으로 선택한 금호설악리조트\\n그전에도 방문한적...  [10, 10, 10, 10, 10]\n",
       "7  휴그린 스위트 리모델링해서 아주 깔끔했습니다 \\n그런데 들어가자 마자 화장실을 락스...  [10, 10, 10, 10, 10]\n",
       "8  연세가 많은 부모님을 모시고 간 속초여행이었는데, 숙소도 편하고 조식도 아주 좋았습...  [10, 10, 10, 10, 10]\n",
       "9  아이랑 둘이 여행 가서 묵었는데 창문밖은 공사 중이라 문도 못 열고. 불편. 오랜만...       [8, 8, 8, 8, 8]"
      ]
     },
     "execution_count": 99,
     "metadata": {},
     "output_type": "execute_result"
    }
   ],
   "source": [
    "pd.DataFrame(row)"
   ]
  },
  {
   "cell_type": "code",
   "execution_count": 75,
   "metadata": {},
   "outputs": [],
   "source": [
    "row = []\n",
    "for i in j_text['data']['goodsEvaluationsVo']:\n",
    "    env =[]\n",
    "    \n",
    "    for j in i['serviceEvalVo']:\n",
    "        env.append(j['svcEvlGrade'])\n",
    "\n",
    "    row.append({\n",
    "        'review': i['evlCn'],\n",
    "        'rates': env})"
   ]
  },
  {
   "cell_type": "code",
   "execution_count": 77,
   "metadata": {},
   "outputs": [
    {
     "data": {
      "text/plain": [
       "10"
      ]
     },
     "execution_count": 77,
     "metadata": {},
     "output_type": "execute_result"
    }
   ],
   "source": [
    "row.__len__()"
   ]
  },
  {
   "cell_type": "code",
   "execution_count": 71,
   "metadata": {},
   "outputs": [
    {
     "data": {
      "text/plain": [
       "[10]"
      ]
     },
     "execution_count": 71,
     "metadata": {},
     "output_type": "execute_result"
    }
   ],
   "source": [
    "env"
   ]
  },
  {
   "cell_type": "code",
   "execution_count": 62,
   "metadata": {},
   "outputs": [
    {
     "data": {
      "text/plain": [
       "[{'evlSeq': 14477541,\n",
       "  'svcEvlSe': 'GR001',\n",
       "  'svcEvlSeNm': '시설(객실/부대시설)',\n",
       "  'svcEvlGrade': 10,\n",
       "  'regId': '',\n",
       "  'regDt': '2023-11-10'},\n",
       " {'evlSeq': 14477541,\n",
       "  'svcEvlSe': 'GR002',\n",
       "  'svcEvlSeNm': '위치',\n",
       "  'svcEvlGrade': 10,\n",
       "  'regId': '',\n",
       "  'regDt': '2023-11-10'},\n",
       " {'evlSeq': 14477541,\n",
       "  'svcEvlSe': 'GR003',\n",
       "  'svcEvlSeNm': '청결',\n",
       "  'svcEvlGrade': 10,\n",
       "  'regId': '',\n",
       "  'regDt': '2023-11-10'},\n",
       " {'evlSeq': 14477541,\n",
       "  'svcEvlSe': 'GR004',\n",
       "  'svcEvlSeNm': '서비스',\n",
       "  'svcEvlGrade': 10,\n",
       "  'regId': '',\n",
       "  'regDt': '2023-11-10'},\n",
       " {'evlSeq': 14477541,\n",
       "  'svcEvlSe': 'GR005',\n",
       "  'svcEvlSeNm': '분위기',\n",
       "  'svcEvlGrade': 10,\n",
       "  'regId': '',\n",
       "  'regDt': '2023-11-10'}]"
      ]
     },
     "execution_count": 62,
     "metadata": {},
     "output_type": "execute_result"
    }
   ],
   "source": [
    "j_text['data']['goodsEvaluationsVo'][0]['serviceEvalVo']"
   ]
  },
  {
   "cell_type": "code",
   "execution_count": 63,
   "metadata": {},
   "outputs": [],
   "source": [
    "env_name = ['시설(객실/부대시설)',\n",
    "'위치',\n",
    "'청결',\n",
    "'서비스',\n",
    "'분위기']"
   ]
  },
  {
   "cell_type": "code",
   "execution_count": 64,
   "metadata": {},
   "outputs": [
    {
     "name": "stdout",
     "output_type": "stream",
     "text": [
      "10\n",
      "10\n",
      "10\n",
      "10\n",
      "10\n"
     ]
    }
   ],
   "source": [
    "env =[]\n",
    "for i in j_text['data']['goodsEvaluationsVo'][0]['serviceEvalVo']:\n",
    "    env.append(i['svcEvlGrade'])\n"
   ]
  },
  {
   "cell_type": "code",
   "execution_count": 65,
   "metadata": {},
   "outputs": [
    {
     "data": {
      "text/plain": [
       "'이박하는 동안불편함없이 객실도깨끗하고 식기류도 깔끔해서좋습니다 황태해장국도 맛나고... 잘다녀왔읍니다'"
      ]
     },
     "execution_count": 65,
     "metadata": {},
     "output_type": "execute_result"
    }
   ],
   "source": [
    "j_text['data']['goodsEvaluationsVo'][0]['evlCn']"
   ]
  }
 ],
 "metadata": {
  "kernelspec": {
   "display_name": "Python 3",
   "language": "python",
   "name": "python3"
  },
  "language_info": {
   "codemirror_mode": {
    "name": "ipython",
    "version": 3
   },
   "file_extension": ".py",
   "mimetype": "text/x-python",
   "name": "python",
   "nbconvert_exporter": "python",
   "pygments_lexer": "ipython3",
   "version": "3.11.1"
  }
 },
 "nbformat": 4,
 "nbformat_minor": 2
}
